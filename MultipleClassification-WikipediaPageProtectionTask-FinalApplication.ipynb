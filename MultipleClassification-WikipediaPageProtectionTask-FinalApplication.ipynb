{
 "cells": [
  {
   "cell_type": "markdown",
   "metadata": {},
   "source": [
    "# Studying Wikipedia Page Protections\n",
    "This notebook provides a tutorial for how to study [page protections](https://en.wikipedia.org/wiki/Wikipedia:Protection_policy) on Wikipedia either via the [Mediawiki dumps](https://www.mediawiki.org/wiki/Manual:Page_restrictions_table) or [API](https://www.mediawiki.org/w/api.php?action=help&modules=query%2Binfo). It has three stages:\n",
    "* Accessing the Page Protection dumps\n",
    "* Accessing the Page Protection API\n",
    "* Example analysis of page protection data (both descriptive statistics and learning a predictive model)"
   ]
  },
  {
   "cell_type": "markdown",
   "metadata": {},
   "source": [
    "## Importance of Page protection\n",
    "\n",
    "What makes Wikipedia so great is its huge amount of open content about anything and everything in this world and its encouragement to improve contents by anyone around the globe. Eventhough it is self-correcting and protects certain contents, there are still important pages which aren't given any page protections. It might not look compromising but a great deal of attempts to vandalism can be reduced by protecting pages that are prone to corruption.\n",
    "\n",
    "This notebook provides a model that could predict the protection type expected for a page based on its length(a measure of content depth) and no of watchers(a measure of interestingness)"
   ]
  },
  {
   "cell_type": "markdown",
   "metadata": {},
   "source": [
    "## Accessing the Page Protection Dumps\n",
    "This is an example of how to parse through [Mediawiki dumps](https://www.mediawiki.org/wiki/Manual:Page_restrictions_table) and determine [what sorts of edit protections](https://en.wikipedia.org/wiki/Wikipedia:Protection_policy#Overview_of_types_of_protection) are applied to a given Wikipedia article."
   ]
  },
  {
   "cell_type": "code",
   "execution_count": 1,
   "metadata": {},
   "outputs": [],
   "source": [
    "# TODO: add other libraries here as necessary\n",
    "import gzip  # necessary for decompressing dump file into text format\n",
    "import re  #necessary for extracting contents from page restrictions dump"
   ]
  },
  {
   "cell_type": "code",
   "execution_count": 2,
   "metadata": {},
   "outputs": [],
   "source": [
    "# Every language on Wikipedia has its own page restrictions table\n",
    "# you can find all the dbnames (e.g., enwiki) here: https://www.mediawiki.org/w/api.php?action=sitematrix\n",
    "# for example, you could replace the LANGUAGE parameter of 'enwiki' with 'arwiki' to study Arabic Wikipedia\n",
    "LANGUAGE = 'enwiki'\n",
    "# e.g., enwiki -> en.wikipedia (this is necessary for the API section)\n",
    "SITENAME = LANGUAGE.replace('wiki', '.wikipedia')\n",
    "# directory on PAWS server that holds Wikimedia dumps\n",
    "DUMP_DIR = \"/public/dumps/public/{0}/latest/\".format(LANGUAGE)\n",
    "DUMP_FN = '{0}-latest-page_restrictions.sql.gz'.format(LANGUAGE)"
   ]
  },
  {
   "cell_type": "code",
   "execution_count": 3,
   "metadata": {},
   "outputs": [
    {
     "name": "stdout",
     "output_type": "stream",
     "text": [
      "1.1M /public/dumps/public/enwiki/latest/enwiki-latest-page_restrictions.sql.gz\r\n"
     ]
    }
   ],
   "source": [
    "# The dataset isn't huge -- 1.1 MB -- so should be quick to process in full\n",
    "!ls -shH \"{DUMP_DIR}{DUMP_FN}\""
   ]
  },
  {
   "cell_type": "code",
   "execution_count": 4,
   "metadata": {},
   "outputs": [
    {
     "name": "stdout",
     "output_type": "stream",
     "text": [
      "-- MySQL dump 10.16  Distrib 10.1.45-MariaDB, for debian-linux-gnu (x86_64)\r\n",
      "--\r\n",
      "-- Host: 10.64.48.13    Database: enwiki\r\n",
      "-- ------------------------------------------------------\r\n",
      "-- Server version\t10.1.43-MariaDB\r\n",
      "\r\n",
      "/*!40101 SET @OLD_CHARACTER_SET_CLIENT=@@CHARACTER_SET_CLIENT */;\r\n",
      "/*!40101 SET @OLD_CHARACTER_SET_RESULTS=@@CHARACTER_SET_RESULTS */;\r\n",
      "/*!40101 SET @OLD_COLLATION_CONNECTION=@@COLLATION_CONNECTION */;\r\n",
      "/*!40101 SET NAMES utf8mb4 */;\r\n",
      "/*!40103 SET @OLD_TIME_ZONE=@@TIME_ZONE */;\r\n",
      "/*!40103 SET TIME_ZONE='+00:00' */;\r\n",
      "/*!40014 SET @OLD_UNIQUE_CHECKS=@@UNIQUE_CHECKS, UNIQUE_CHECKS=0 */;\r\n",
      "/*!40014 SET @OLD_FOREIGN_KEY_CHECKS=@@FOREIGN_KEY_CHECKS, FOREIGN_KEY_CHECKS=0 */;\r\n",
      "/*!40101 SET @OLD_SQL_MODE=@@SQL_MODE, SQL_MODE='NO_AUTO_VALUE_ON_ZERO' */;\r\n",
      "/*!40111 SET @OLD_SQL_NOTES=@@SQL_NOTES, SQL_NOTES=0 */;\r\n",
      "\r\n",
      "--\r\n",
      "-- Table structure for table `page_restrictions`\r\n",
      "--\r\n",
      "\r\n",
      "DROP TABLE IF EXISTS `page_restrictions`;\r\n",
      "/*!40101 SET @saved_cs_client     = @@character_set_client */;\r\n",
      "/*!40101 SET character_set_client = utf8 */;\r\n",
      "CREATE TABLE `page_restrictions` (\r\n",
      "  `pr_page` int(8) NOT NULL DEFAULT '0',\r\n",
      "  `pr_type` varbinary(255) NOT NULL DEFAULT '',\r\n",
      "  `pr_level` varbinary(255) NOT NULL DEFAULT '',\r\n",
      "  `pr_cascade` tinyint(4) NOT NULL DEFAULT '0',\r\n",
      "  `pr_user` int(10) unsigned DEFAULT NULL,\r\n",
      "  `pr_expiry` varbinary(14) DEFAULT NULL,\r\n",
      "  `pr_id` int(10) unsigned NOT NULL AUTO_INCREMENT,\r\n",
      "  PRIMARY KEY (`pr_id`),\r\n",
      "  UNIQUE KEY `pr_pagetype` (`pr_page`,`pr_type`),\r\n",
      "  KEY `pr_typelevel` (`pr_type`,`pr_level`),\r\n",
      "  KEY `pr_level` (`pr_level`),\r\n",
      "  KEY `pr_cascade` (`pr_cascade`)\r\n",
      ") ENGINE=InnoDB AUTO_INCREMENT=869230 DEFAULT CHARSET=binary ROW_FORMAT=COMPRESSED;\r\n",
      "/*!40101 SET character_set_client = @saved_cs_client */;\r\n",
      "\r\n",
      "--\r\n",
      "-- Dumping data for table `page_restrictions`\r\n",
      "--\r\n",
      "\r\n",
      "/*!40000 ALTER TABLE `page_restrictions` DISABLE KEYS */;\r\n",
      "INSERT INTO `page_restrictions` VALUES (1086732,'edit','sysop',0,NULL,'infinity',1307),(1086732,'mov\r\n",
      "\r\n",
      "gzip: stdout: Broken pipe\r\n"
     ]
    }
   ],
   "source": [
    "# Inspect the first 1000 characters of the page protections dump to see what it looks like\n",
    "# As you can see from the CREATE TABLE statement, each datapoint has 7 fields (pr_page, pr_type, ... , pr_id)\n",
    "# A description of the fields in the data can be found here:\n",
    "#   https://www.mediawiki.org/wiki/Manual:Page_restrictions_table\n",
    "# And the data that we want is on lines that start with INSERT INTO `page_restrictions` VALUES...\n",
    "# The first datapoint (1086732,'edit','sysop',0,NULL,'infinity',1307) can be interpreted as:\n",
    "#   1086732:    page ID 1086732 (en.wikipedia.org/wiki/?curid=1086732)\n",
    "#   'edit':     has edit protections\n",
    "#   'sysop':    that require sysop permissions (https://en.wikipedia.org/wiki/Wikipedia:User_access_levels#Administrator)\n",
    "#   0:          does not cascade to other pages\n",
    "#   NULL:       no user-specific restrictions\n",
    "#   'infinity': restriction does not expire automatically\n",
    "#   1307:       table primary key -- has no meaning by itself\n",
    "\n",
    "!zcat \"{DUMP_DIR}{DUMP_FN}\" | head -46 | cut -c1-100"
   ]
  },
  {
   "cell_type": "code",
   "execution_count": 5,
   "metadata": {},
   "outputs": [],
   "source": [
    "# TODO: Complete example that loops through all page restrictions in the dump file above and extracts data\n",
    "# The Python gzip library will allow you to decompress the file for reading: https://docs.python.org/3/library/gzip.html#gzip.open\n",
    "fin =gzip.open('/public/dumps/public/enwiki/latest/enwiki-latest-page_restrictions.sql.gz', mode='rt', compresslevel=9, encoding=None, errors=None, newline=None)\n",
    "for line in fin:\n",
    "    if line.find(\"INSERT INTO\")!=-1: #To get the first \"Insert into values\" command from the file \n",
    "        contents=line\n",
    "        break\n",
    "data= contents[contents.find('('):contents.rfind(')')+1] #To extract datapoints from page restrictions table\n",
    "dump_result = re.findall(r'\\(.*?\\)',data) # Here we assume that the entries doesn't contain paranthesis within themselves."
   ]
  },
  {
   "cell_type": "markdown",
   "metadata": {},
   "source": [
    "## Accessing the Page Protection APIs\n",
    "The [Page Protection API](https://www.mediawiki.org/w/api.php?action=help&modules=query%2Binfo) can be a much simpler way to access data about page protections for a given article if you know what articles you are interested in and are interested in relatively few articles (e.g., hundreds or low thousands).\n",
    "\n",
    "NOTE: the APIs are up-to-date while the Mediawiki dumps are always at least several days behind -- i.e. for specific snapshots in time -- so the data you get from the Mediawiki dumps might be different from the APIs if permissions have changed to a page's protections in the intervening days."
   ]
  },
  {
   "cell_type": "code",
   "execution_count": 6,
   "metadata": {},
   "outputs": [],
   "source": [
    "# TODO: add other libraries here as necessary\n",
    "import mwapi # useful for accessing Wikimedia API\n",
    "import random #useful for getting random pages"
   ]
  },
  {
   "cell_type": "code",
   "execution_count": 7,
   "metadata": {},
   "outputs": [
    {
     "name": "stdout",
     "output_type": "stream",
     "text": [
      "[{'id': '12430886', 'type': 'edit', 'level': 'sysop'}, {'id': '8677630', 'type': 'edit', 'level': 'sysop'}, {'id': '10297457', 'type': 'move', 'level': 'sysop'}, {'id': '16658266', 'type': 'move', 'level': 'autoconfirmed'}, {'id': '14605677', 'type': 'edit', 'level': 'sysop'}, {'id': '9344122', 'type': 'move', 'level': 'autoconfirmed'}, {'id': '11130882', 'type': 'move', 'level': 'sysop'}, {'id': '7750378', 'type': 'move', 'level': 'sysop'}, {'id': '10094794', 'type': 'move', 'level': 'sysop'}, {'id': '12156946', 'type': 'move', 'level': 'autoconfirmed'}]\n"
     ]
    }
   ],
   "source": [
    "# TODO: Gather ten random page IDs from the data gathered from the Mediawiki dump to get data for from the API\n",
    "ten_random_items = random.sample(dump_result, 10)\n",
    "id_list=[] #To store list of page ids from random sample data\n",
    "dump_data=[] #To store the page restriction data from the random sample data \n",
    "dump_protection_level=[]\n",
    "for item in ten_random_items:\n",
    "    item=item.strip('()')\n",
    "    item=item.split(',')\n",
    "    id_list.append(item[0])\n",
    "    dump_dict={} # Each page restriction data is stored in a dictionary\n",
    "    dump_dict['id']=item[0]\n",
    "    dump_dict['type']=item[1]\n",
    "    dump_dict['type']=dump_dict['type'].strip('\\'')\n",
    "    dump_dict['level']=item[2]\n",
    "    dump_dict['level']=dump_dict['level'].strip('\\'')\n",
    "    dump_data.append(dump_dict) #adds each page restriction dictionary to a single list\n",
    "    page_ids='|'.join(id_list) # joins all the page ids to pass it as a parameter to the page protection api\n",
    "    \n",
    "print(dump_data)"
   ]
  },
  {
   "cell_type": "code",
   "execution_count": 8,
   "metadata": {},
   "outputs": [],
   "source": [
    "# mwapi documentation: https://pypi.org/project/mwapi/\n",
    "# user_agent helps identify the request if there's an issue and is best practice\n",
    "tutorial_label = 'Page Protection API tutorial (mwapi)'\n",
    "# NOTE: it is best practice to include a contact email in user agents\n",
    "# generally this is private information though so do not change it to yours\n",
    "# if you are working in the PAWS environment or adding to a Github repo\n",
    "# for Outreachy, you can leave this as my (isaac's) email or switch it to your Mediawiki username\n",
    "# e.g., Isaac (WMF) for https://www.mediawiki.org/wiki/User:Isaac_(WMF)\n",
    "contact_email = 'isaac@wikimedia.org'\n",
    "session = mwapi.Session('https://{0}.org'.format(SITENAME), user_agent='{0} -- {1}'.format(tutorial_label, contact_email))\n",
    "\n",
    "# TODO: You'll have to add additional parameters here to query the pages you're interested in\n",
    "# API endpoint: https://www.mediawiki.org/w/api.php?action=help&modules=query%2Binfo\n",
    "# More details: https://www.mediawiki.org/wiki/API:Info\n",
    "\n",
    "params = {  \"action\": \"query\",\n",
    "            \"format\": \"json\",\n",
    "            \"pageids\": page_ids,\n",
    "            \"prop\": \"info\",\n",
    "            \"inprop\": \"protection\"\n",
    "            }"
   ]
  },
  {
   "cell_type": "code",
   "execution_count": 9,
   "metadata": {},
   "outputs": [
    {
     "name": "stdout",
     "output_type": "stream",
     "text": [
      "API Results for ['7750378', '8677630', '9344122', '10094794', '10297457', '11130882', '12156946', '12430886', '14605677', '16658266']\n"
     ]
    }
   ],
   "source": [
    "# TODO: make request to API for data\n",
    "result = session.get(params)\n",
    "keys=list(result['query']['pages'].keys())\n",
    "print('API Results for',keys)"
   ]
  },
  {
   "cell_type": "code",
   "execution_count": 10,
   "metadata": {
    "scrolled": true
   },
   "outputs": [
    {
     "name": "stdout",
     "output_type": "stream",
     "text": [
      "[{'id': '7750378', 'type': 'move', 'level': 'sysop'}, {'id': '8677630', 'type': 'edit', 'level': 'sysop'}, {'id': '9344122', 'type': 'move', 'level': 'autoconfirmed'}, {'id': '10094794', 'type': 'move', 'level': 'sysop'}, {'id': '10297457', 'type': 'move', 'level': 'sysop'}, {'id': '11130882', 'type': 'move', 'level': 'sysop'}, {'id': '12156946', 'type': 'move', 'level': 'autoconfirmed'}, {'id': '12430886', 'type': 'edit', 'level': 'sysop'}, {'id': '14605677', 'type': 'edit', 'level': 'sysop'}, {'id': '16658266', 'type': 'move', 'level': 'autoconfirmed'}]\n"
     ]
    }
   ],
   "source": [
    "# TODO: examine API results and compare to data from Mediawiki dump to see if they are the same and explain any discrepancies\n",
    "global i\n",
    "i=0\n",
    "con=list(result['query']['pages'].values()) #extracting data from the api result\n",
    "api_data=[] #To store the page restriction data from the api\n",
    "for key in keys:\n",
    "    for item in dump_data:\n",
    "        if key==item['id']:\n",
    "                if(item['type']=='edit'):\n",
    "                    api_dict={}\n",
    "                    api_dict['id']=key\n",
    "                    api_dict['type']='edit'\n",
    "                    api_dict['level']=con[i]['protection'][0]['level']\n",
    "                    api_data.append(api_dict)\n",
    "                    i=i+1\n",
    "                    if (item['level']!=api_dict['level']):\n",
    "                        print('Mismatch at edit level page with id',format(item['id'])) #To check any mismatch for edit protections in dump_data and api_data\n",
    "                    \n",
    "                    \n",
    "                else:\n",
    "                    api_dict={}\n",
    "                    api_dict['id']=key\n",
    "                    api_dict['type']='move'\n",
    "                    api_dict['level']=con[i]['protection'][1]['level']\n",
    "                    api_data.append(api_dict)\n",
    "                    i=i+1\n",
    "                    if (item['level']!=api_dict['level']):\n",
    "                        print('Mismatch at move page with id',format(item['id']))#To check any mismatch for move protections in dump_data and api_data\n",
    "print(api_data)#Both dump data and api data seems to be the same\n",
    "assert [i for i in api_data if i not in dump_data] == [] #To check if both api_data and dump_data is equal."
   ]
  },
  {
   "cell_type": "markdown",
   "metadata": {},
   "source": [
    "## Example Analyses of Page Protection Data\n",
    "Here we show some examples of things we can do with the data that we gathered about the protections for various Wikipedia articles. You'll want to come up with some questions to ask of the data as well. For this, you might need to gather additional data such as:\n",
    "* The [page table](https://www.mediawiki.org/wiki/Manual:Page_table), which, for example, can be found in the `DUMP_DIR` under the name `{LANGUAGE}-latest-page.sql.gz`\n",
    "* Selecting a sample of, for example, 100 articles and getting additional information about them from other [API endpoints](https://www.mediawiki.org/wiki/API:Properties)."
   ]
  },
  {
   "cell_type": "code",
   "execution_count": 11,
   "metadata": {},
   "outputs": [],
   "source": [
    "# TODO: add any imports of data analysis / visualization libraries here as necessary\n",
    "import pandas as pd #Allows use of dataframes\n",
    "import seaborn as sns #For visualization\n",
    "import matplotlib.pyplot as plt #To plot graphs\n",
    "from scipy.stats import pearsonr, spearmanr #To find correlations among variables"
   ]
  },
  {
   "cell_type": "code",
   "execution_count": 12,
   "metadata": {},
   "outputs": [],
   "source": [
    "#Get the list of the top 500 pages\n",
    "content=[]\n",
    "page_limit=500\n",
    "params = {\n",
    "\t\"action\": \"query\",\n",
    "\t\"format\": \"json\",\n",
    "\t\"list\": \"mostviewed\",\n",
    "\t\"pvimmetric\": \"pageviews\",\n",
    "\t\"pvimlimit\": page_limit\n",
    "}\n",
    "result = session.get(params)\n",
    "d=result['query']['mostviewed']"
   ]
  },
  {
   "cell_type": "code",
   "execution_count": 13,
   "metadata": {},
   "outputs": [
    {
     "data": {
      "text/html": [
       "<div>\n",
       "<style scoped>\n",
       "    .dataframe tbody tr th:only-of-type {\n",
       "        vertical-align: middle;\n",
       "    }\n",
       "\n",
       "    .dataframe tbody tr th {\n",
       "        vertical-align: top;\n",
       "    }\n",
       "\n",
       "    .dataframe thead th {\n",
       "        text-align: right;\n",
       "    }\n",
       "</style>\n",
       "<table border=\"1\" class=\"dataframe\">\n",
       "  <thead>\n",
       "    <tr style=\"text-align: right;\">\n",
       "      <th></th>\n",
       "      <th>title</th>\n",
       "      <th>length</th>\n",
       "      <th>watchers</th>\n",
       "      <th>edit_protection_level</th>\n",
       "      <th>move_protection_level</th>\n",
       "      <th>protection_type</th>\n",
       "    </tr>\n",
       "  </thead>\n",
       "  <tbody>\n",
       "    <tr>\n",
       "      <th>0</th>\n",
       "      <td>Special:Search</td>\n",
       "      <td>NaN</td>\n",
       "      <td>NaN</td>\n",
       "      <td>NaN</td>\n",
       "      <td>NaN</td>\n",
       "      <td>NaN</td>\n",
       "    </tr>\n",
       "    <tr>\n",
       "      <th>1</th>\n",
       "      <td>2012 United States presidential election</td>\n",
       "      <td>138606.0</td>\n",
       "      <td>470.0</td>\n",
       "      <td>notprotected</td>\n",
       "      <td>notprotected</td>\n",
       "      <td>noprotection</td>\n",
       "    </tr>\n",
       "    <tr>\n",
       "      <th>2</th>\n",
       "      <td>2016 United States presidential election</td>\n",
       "      <td>380837.0</td>\n",
       "      <td>813.0</td>\n",
       "      <td>autoconfirmed</td>\n",
       "      <td>autoconfirmed</td>\n",
       "      <td>semiprotection</td>\n",
       "    </tr>\n",
       "    <tr>\n",
       "      <th>3</th>\n",
       "      <td>2020 United States presidential election</td>\n",
       "      <td>255027.0</td>\n",
       "      <td>542.0</td>\n",
       "      <td>extendedconfirmed</td>\n",
       "      <td>extendedconfirmed</td>\n",
       "      <td>semiprotection</td>\n",
       "    </tr>\n",
       "    <tr>\n",
       "      <th>4</th>\n",
       "      <td>Amy Coney Barrett</td>\n",
       "      <td>125597.0</td>\n",
       "      <td>237.0</td>\n",
       "      <td>autoconfirmed</td>\n",
       "      <td>sysop</td>\n",
       "      <td>semiprotection</td>\n",
       "    </tr>\n",
       "  </tbody>\n",
       "</table>\n",
       "</div>"
      ],
      "text/plain": [
       "                                      title    length  watchers  \\\n",
       "0                            Special:Search       NaN       NaN   \n",
       "1  2012 United States presidential election  138606.0     470.0   \n",
       "2  2016 United States presidential election  380837.0     813.0   \n",
       "3  2020 United States presidential election  255027.0     542.0   \n",
       "4                         Amy Coney Barrett  125597.0     237.0   \n",
       "\n",
       "  edit_protection_level move_protection_level protection_type  \n",
       "0                   NaN                   NaN             NaN  \n",
       "1          notprotected          notprotected    noprotection  \n",
       "2         autoconfirmed         autoconfirmed  semiprotection  \n",
       "3     extendedconfirmed     extendedconfirmed  semiprotection  \n",
       "4         autoconfirmed                 sysop  semiprotection  "
      ]
     },
     "execution_count": 13,
     "metadata": {},
     "output_type": "execute_result"
    }
   ],
   "source": [
    "#Get page protection data based on the titles collected from most viewed pages\n",
    "split_list=list(range(50,page_limit+1,50)) #To split the titles into a group of 50 each as we can only get protection data of 50 pages at a time\n",
    "res = [d[i : j] for i, j in zip([0] + \n",
    "          split_list, split_list + [None])]\n",
    "for i in range(int(page_limit/50)):\n",
    "    par = {\n",
    "\t\"action\": \"query\",\n",
    "\t\"format\": \"json\",\n",
    "\t\"prop\": \"info\",\n",
    "\t\"titles\": '|'.join([item['title'] for item in res[i]]),\n",
    "\t\"inprop\": \"protection|watchers\", #get protection data along with the no of watchers for each page title\n",
    "   \n",
    "    }\n",
    "    result = session.get(par)\n",
    "    li=list(result['query']['pages'].values())\n",
    "    content.extend(li)\n",
    "for i in content:\n",
    "    if 'protection' in i:\n",
    "        if len(i['protection'])!=0 and len(i['protection'])!=2:\n",
    "            i.clear()\n",
    "for i in content:\n",
    "    if 'protection' in i:\n",
    "        if len(i['protection'])>2: #remove pages with cascaded protections\n",
    "            i.clear()\n",
    "        if i['protection']==[]: #If both edit or move protection is not specified, then the page is labelled to be not protected\n",
    "            i['edit_protection_level']='notprotected'\n",
    "            i['move_protection_level']='notprotected'\n",
    "            i['protection_type']= 'noprotection'\n",
    "        else:\n",
    "            if i['protection'][0]!=[] and i['protection'][0]['type']=='edit':\n",
    "                #creating columns for protection levels\n",
    "                i['edit_protection_level']=i['protection'][0]['level']\n",
    "                i['move_protection_level']=i['protection'][1]['level']\n",
    "            else:\n",
    "                i['move_protection_level']=i['protection'][0]['level'] #If edit protection is not specified, then the first entry will be of move protection\n",
    "        \n",
    "            if i['edit_protection_level']=='sysop' and i['move_protection_level']=='sysop': #Only admins can edit or move fully protected pages.\n",
    "                i['protection_type']= 'fullprotection'\n",
    "            else:\n",
    "                i['protection_type']= 'semiprotection' # All the protected pages other than fully protected ones are taken to be semi protected.\n",
    "            \n",
    "df = pd.DataFrame(content,columns=['title','length','watchers','edit_protection_level','move_protection_level','protection_type'])\n",
    "df.head()"
   ]
  },
  {
   "cell_type": "markdown",
   "metadata": {},
   "source": [
    "### Descriptive statistics\n",
    "TODO: give an overview of basic details about page protections and any conclusions you reach based on the analyses you do below"
   ]
  },
  {
   "cell_type": "code",
   "execution_count": 14,
   "metadata": {},
   "outputs": [
    {
     "name": "stdout",
     "output_type": "stream",
     "text": [
      "notprotected         271\n",
      "autoconfirmed        166\n",
      "extendedconfirmed     12\n",
      "sysop                  1\n",
      "Name: edit_protection_level, dtype: int64\n",
      "notprotected         271\n",
      "sysop                 99\n",
      "autoconfirmed         73\n",
      "extendedconfirmed      7\n",
      "Name: move_protection_level, dtype: int64\n"
     ]
    }
   ],
   "source": [
    "# TODO: do basic analyses here to understand the data\n",
    "edit_count=df['edit_protection_level'].value_counts()\n",
    "print(edit_count) # Count of pages with different levels in edit protection\n",
    "move_count=df['move_protection_level'].value_counts()\n",
    "print(move_count) # Count of pages with different levels in edit protection"
   ]
  },
  {
   "cell_type": "markdown",
   "metadata": {},
   "source": [
    "Around half of the pages are unprotected. Out of the protected pages, most edit protections are autoconfirmed while move protections are mostly sysop. This suggests that most of the protected pages are open to edit if the user is consistent in editing Wikipedia pages while its hard to move a lot of protected pages unless you are an admin.So a new Wikipedia contributor might not be able to edit most of the protected pages."
   ]
  },
  {
   "cell_type": "markdown",
   "metadata": {},
   "source": [
    "## Relationship between protection levels and watchers\n",
    "\n",
    "Conclusions\n",
    "If we try to analyse the variation in the no of \"watchers\" (a rough proxy of the interestingness of the page) and the level of protection( a rough proxy about how much sensitive the topic is about), we find that \n",
    "* fully protected pages have the most no of watchers whereas unprotected pages have the least no of watchers.\n",
    "* Wikipedians are more interested to watch pages with sensitive contents.\n",
    "* It can also mean that pages without much watchers are not protected well but this doesn't mean those contents wouldn't get corrupted\n"
   ]
  },
  {
   "cell_type": "code",
   "execution_count": 15,
   "metadata": {},
   "outputs": [
    {
     "data": {
      "text/plain": [
       "<AxesSubplot:xlabel='edit_protection_level', ylabel='watchers'>"
      ]
     },
     "execution_count": 15,
     "metadata": {},
     "output_type": "execute_result"
    },
    {
     "data": {
      "image/png": "[encoded data removed]",
      "text/plain": [
       "<Figure size 432x288 with 1 Axes>"
      ]
     },
     "metadata": {
      "needs_background": "light"
     },
     "output_type": "display_data"
    }
   ],
   "source": [
    "sns.boxplot(x='edit_protection_level',y='watchers',data=df)"
   ]
  },
  {
   "cell_type": "markdown",
   "metadata": {},
   "source": [
    "We see that the extended confirmed pages have highest no of average watchers(if the only sysop page is excluded) This suggests that sensitive contents seems to be a bit more interesting to watch. "
   ]
  },
  {
   "cell_type": "code",
   "execution_count": 16,
   "metadata": {},
   "outputs": [
    {
     "data": {
      "text/plain": [
       "<AxesSubplot:xlabel='move_protection_level', ylabel='watchers'>"
      ]
     },
     "execution_count": 16,
     "metadata": {},
     "output_type": "execute_result"
    },
    {
     "data": {
      "image/png": "[encoded data removed]",
      "text/plain": [
       "<Figure size 432x288 with 1 Axes>"
      ]
     },
     "metadata": {
      "needs_background": "light"
     },
     "output_type": "display_data"
    }
   ],
   "source": [
    "sns.boxplot(x='move_protection_level',y='watchers',data=df)"
   ]
  },
  {
   "cell_type": "markdown",
   "metadata": {},
   "source": [
    "Even in the case of move protection, unprotected pages have the least no of watchers, which means lesser sensitive pages are more likely to get fewer watchers"
   ]
  },
  {
   "cell_type": "code",
   "execution_count": 17,
   "metadata": {},
   "outputs": [
    {
     "data": {
      "text/html": [
       "<div>\n",
       "<style scoped>\n",
       "    .dataframe tbody tr th:only-of-type {\n",
       "        vertical-align: middle;\n",
       "    }\n",
       "\n",
       "    .dataframe tbody tr th {\n",
       "        vertical-align: top;\n",
       "    }\n",
       "\n",
       "    .dataframe thead th {\n",
       "        text-align: right;\n",
       "    }\n",
       "</style>\n",
       "<table border=\"1\" class=\"dataframe\">\n",
       "  <thead>\n",
       "    <tr style=\"text-align: right;\">\n",
       "      <th></th>\n",
       "      <th>edit_protection_level</th>\n",
       "      <th>move_protection_level</th>\n",
       "      <th>watchers</th>\n",
       "    </tr>\n",
       "  </thead>\n",
       "  <tbody>\n",
       "    <tr>\n",
       "      <th>0</th>\n",
       "      <td>autoconfirmed</td>\n",
       "      <td>autoconfirmed</td>\n",
       "      <td>450.287671</td>\n",
       "    </tr>\n",
       "    <tr>\n",
       "      <th>1</th>\n",
       "      <td>autoconfirmed</td>\n",
       "      <td>extendedconfirmed</td>\n",
       "      <td>339.000000</td>\n",
       "    </tr>\n",
       "    <tr>\n",
       "      <th>2</th>\n",
       "      <td>autoconfirmed</td>\n",
       "      <td>sysop</td>\n",
       "      <td>1396.516484</td>\n",
       "    </tr>\n",
       "    <tr>\n",
       "      <th>3</th>\n",
       "      <td>extendedconfirmed</td>\n",
       "      <td>extendedconfirmed</td>\n",
       "      <td>2279.000000</td>\n",
       "    </tr>\n",
       "    <tr>\n",
       "      <th>4</th>\n",
       "      <td>extendedconfirmed</td>\n",
       "      <td>sysop</td>\n",
       "      <td>1833.142857</td>\n",
       "    </tr>\n",
       "    <tr>\n",
       "      <th>5</th>\n",
       "      <td>notprotected</td>\n",
       "      <td>notprotected</td>\n",
       "      <td>213.609626</td>\n",
       "    </tr>\n",
       "    <tr>\n",
       "      <th>6</th>\n",
       "      <td>sysop</td>\n",
       "      <td>sysop</td>\n",
       "      <td>5587.000000</td>\n",
       "    </tr>\n",
       "  </tbody>\n",
       "</table>\n",
       "</div>"
      ],
      "text/plain": [
       "  edit_protection_level move_protection_level     watchers\n",
       "0         autoconfirmed         autoconfirmed   450.287671\n",
       "1         autoconfirmed     extendedconfirmed   339.000000\n",
       "2         autoconfirmed                 sysop  1396.516484\n",
       "3     extendedconfirmed     extendedconfirmed  2279.000000\n",
       "4     extendedconfirmed                 sysop  1833.142857\n",
       "5          notprotected          notprotected   213.609626\n",
       "6                 sysop                 sysop  5587.000000"
      ]
     },
     "execution_count": 17,
     "metadata": {},
     "output_type": "execute_result"
    }
   ],
   "source": [
    "df_test=df[['edit_protection_level','move_protection_level','watchers']]\n",
    "df_grp= df_test.groupby(['edit_protection_level','move_protection_level'],as_index=False).mean()\n",
    "df_grp"
   ]
  },
  {
   "cell_type": "markdown",
   "metadata": {},
   "source": [
    "It confirms the above observation on the correspondance between protection levels and no of watchers. A fully protected page (which might contain the most sensitive information) is the most watched while pages without any protections have the least popularity. So no of watchers in a particular page can be potentially used as a feature to predict its protection type."
   ]
  },
  {
   "cell_type": "markdown",
   "metadata": {},
   "source": [
    "## Relationship between length and watchers\n",
    "\n",
    "Conclusions\n",
    "We see a clear positive correlation between length of a page (our proxy for content size/depth) and # of watchers (our proxy for interestingness/popularity) -- i.e. Wikipedia pages with larger contents tend to attract more no of Wikipedians to watch that page."
   ]
  },
  {
   "cell_type": "code",
   "execution_count": 18,
   "metadata": {},
   "outputs": [
    {
     "name": "stdout",
     "output_type": "stream",
     "text": [
      "Correlation between length and watchers\n",
      "Pearson (linear) correlation between the length of the page and # of its watchers: 0.5904 (p=0.0000)\n",
      "Spearman (rank) correlation between the length of the page and # of its watchers: 0.7164 (p=0.0000)\n"
     ]
    },
    {
     "data": {
      "text/plain": [
       "(0.0, 6526.109491378571)"
      ]
     },
     "execution_count": 18,
     "metadata": {},
     "output_type": "execute_result"
    },
    {
     "data": {
      "image/png": "[encoded data removed]",
      "text/plain": [
       "<Figure size 432x288 with 1 Axes>"
      ]
     },
     "metadata": {
      "needs_background": "light"
     },
     "output_type": "display_data"
    }
   ],
   "source": [
    "df.dropna(axis=0,inplace=True) #deleting rows with null values\n",
    "print(\"Correlation between length and watchers\")\n",
    "pcorr_coef, pval = pearsonr(df['length'], df['watchers'])\n",
    "print(\"Pearson (linear) correlation between the length of the page and # of its watchers: {0:.4f} (p={1:0.4f})\".format(pcorr_coef, pval))\n",
    "\n",
    "scorr_coef, pval = spearmanr(df['length'], df['watchers'])\n",
    "print(\"Spearman (rank) correlation between the length of the page and # of its watchers: {0:.4f} (p={1:0.4f})\".format(scorr_coef, pval))\n",
    "sns.regplot(x='length',y='watchers',data=df)\n",
    "plt.ylim(0,)"
   ]
  },
  {
   "cell_type": "markdown",
   "metadata": {},
   "source": [
    "Most of the pages have less than 1000 watchers.There seems to be a positive correlation between the no of watchers and length of the page which suggests that the users are more interested in topics with a lot of content. That inturn qualifies length to be a potential feature to predict the protection type of a page."
   ]
  },
  {
   "cell_type": "code",
   "execution_count": 19,
   "metadata": {},
   "outputs": [
    {
     "data": {
      "text/plain": [
       "<AxesSubplot:xlabel='length', ylabel='watchers'>"
      ]
     },
     "execution_count": 19,
     "metadata": {},
     "output_type": "execute_result"
    },
    {
     "data": {
      "image/png": "[encoded data removed]",
      "text/plain": [
       "<Figure size 432x288 with 1 Axes>"
      ]
     },
     "metadata": {
      "needs_background": "light"
     },
     "output_type": "display_data"
    }
   ],
   "source": [
    "sns.scatterplot(x='length',y='watchers',hue='protection_type',data=df)"
   ]
  },
  {
   "cell_type": "markdown",
   "metadata": {},
   "source": [
    "Semi protected pages tend to be long and have more no of watchers while unprotected pages have lesser watchers and length which allows us to classify them distinctively."
   ]
  },
  {
   "cell_type": "markdown",
   "metadata": {},
   "source": [
    "### Predictive Model\n",
    "TODO: Train and evaluate a predictive model on the data you gathered for the above descriptive statistics. Describe what you learned from the model or how it would be useful.\n",
    "#### This model predicts the protection type of a given page based on its length and no of watchers"
   ]
  },
  {
   "cell_type": "code",
   "execution_count": 20,
   "metadata": {
    "scrolled": false
   },
   "outputs": [],
   "source": [
    "# imports\n",
    "from sklearn.model_selection import train_test_split\n",
    "from sklearn.preprocessing import StandardScaler\n",
    "from sklearn.preprocessing import LabelEncoder\n",
    "from sklearn import svm,tree\n",
    "from sklearn.metrics import accuracy_score, confusion_matrix\n",
    "from sklearn.ensemble import RandomForestClassifier\n",
    "from sklearn.neighbors import KNeighborsClassifier"
   ]
  },
  {
   "cell_type": "code",
   "execution_count": 21,
   "metadata": {},
   "outputs": [
    {
     "data": {
      "text/html": [
       "<div>\n",
       "<style scoped>\n",
       "    .dataframe tbody tr th:only-of-type {\n",
       "        vertical-align: middle;\n",
       "    }\n",
       "\n",
       "    .dataframe tbody tr th {\n",
       "        vertical-align: top;\n",
       "    }\n",
       "\n",
       "    .dataframe thead th {\n",
       "        text-align: right;\n",
       "    }\n",
       "</style>\n",
       "<table border=\"1\" class=\"dataframe\">\n",
       "  <thead>\n",
       "    <tr style=\"text-align: right;\">\n",
       "      <th></th>\n",
       "      <th>title</th>\n",
       "      <th>length</th>\n",
       "      <th>watchers</th>\n",
       "      <th>edit_protection_level</th>\n",
       "      <th>move_protection_level</th>\n",
       "      <th>protection_type</th>\n",
       "    </tr>\n",
       "  </thead>\n",
       "  <tbody>\n",
       "    <tr>\n",
       "      <th>1</th>\n",
       "      <td>2012 United States presidential election</td>\n",
       "      <td>0.263774</td>\n",
       "      <td>0.071209</td>\n",
       "      <td>notprotected</td>\n",
       "      <td>notprotected</td>\n",
       "      <td>1</td>\n",
       "    </tr>\n",
       "    <tr>\n",
       "      <th>2</th>\n",
       "      <td>2016 United States presidential election</td>\n",
       "      <td>0.724869</td>\n",
       "      <td>0.126720</td>\n",
       "      <td>autoconfirmed</td>\n",
       "      <td>autoconfirmed</td>\n",
       "      <td>2</td>\n",
       "    </tr>\n",
       "    <tr>\n",
       "      <th>3</th>\n",
       "      <td>2020 United States presidential election</td>\n",
       "      <td>0.485386</td>\n",
       "      <td>0.082861</td>\n",
       "      <td>extendedconfirmed</td>\n",
       "      <td>extendedconfirmed</td>\n",
       "      <td>2</td>\n",
       "    </tr>\n",
       "    <tr>\n",
       "      <th>4</th>\n",
       "      <td>Amy Coney Barrett</td>\n",
       "      <td>0.239011</td>\n",
       "      <td>0.033501</td>\n",
       "      <td>autoconfirmed</td>\n",
       "      <td>sysop</td>\n",
       "      <td>2</td>\n",
       "    </tr>\n",
       "    <tr>\n",
       "      <th>5</th>\n",
       "      <td>Anya Taylor-Joy</td>\n",
       "      <td>0.076090</td>\n",
       "      <td>0.011491</td>\n",
       "      <td>notprotected</td>\n",
       "      <td>notprotected</td>\n",
       "      <td>1</td>\n",
       "    </tr>\n",
       "  </tbody>\n",
       "</table>\n",
       "</div>"
      ],
      "text/plain": [
       "                                      title    length  watchers  \\\n",
       "1  2012 United States presidential election  0.263774  0.071209   \n",
       "2  2016 United States presidential election  0.724869  0.126720   \n",
       "3  2020 United States presidential election  0.485386  0.082861   \n",
       "4                         Amy Coney Barrett  0.239011  0.033501   \n",
       "5                           Anya Taylor-Joy  0.076090  0.011491   \n",
       "\n",
       "  edit_protection_level move_protection_level  protection_type  \n",
       "1          notprotected          notprotected                1  \n",
       "2         autoconfirmed         autoconfirmed                2  \n",
       "3     extendedconfirmed     extendedconfirmed                2  \n",
       "4         autoconfirmed                 sysop                2  \n",
       "5          notprotected          notprotected                1  "
      ]
     },
     "execution_count": 21,
     "metadata": {},
     "output_type": "execute_result"
    }
   ],
   "source": [
    "# TODO: preprocess data\n",
    "df.dropna(axis=0,inplace=True) #deleting rows with null values\n",
    "#normalizing numerical variables using min-max method\n",
    "df['watchers']=(df['watchers']-df['watchers'].min())/(df['watchers'].max()-df['watchers'].min())\n",
    "df['length']=(df['length']-df['length'].min())/(df['length'].max()-df['length'].min())\n",
    "#Convert categorical variables into numerical variables\n",
    "le=LabelEncoder()\n",
    "df['protection_type']=le.fit_transform(df['protection_type'])\n",
    "df.head()"
   ]
  },
  {
   "cell_type": "code",
   "execution_count": 22,
   "metadata": {},
   "outputs": [
    {
     "name": "stdout",
     "output_type": "stream",
     "text": [
      "X_train (292):\n",
      "       length  watchers\n",
      "420  0.082101  0.030426\n",
      "201  0.159906  0.014242\n",
      "130  0.167667  0.034795\n",
      "383  0.101319  0.026380\n",
      "143  0.194377  0.047257\n",
      "\n",
      "y_train (292):\n",
      "     protection_type\n",
      "420                1\n",
      "201                1\n",
      "130                1\n",
      "383                1\n",
      "143                1\n",
      "\n",
      "X_test (73):\n",
      "       length  watchers\n",
      "250  0.029432  0.007445\n",
      "79   0.076177  0.187409\n",
      "70   0.374457  0.580838\n",
      "414  0.225104  0.091277\n",
      "274  0.037970  0.021525\n",
      "\n",
      "y_test (73):\n",
      "     protection_type\n",
      "250                2\n",
      "79                 2\n",
      "70                 2\n",
      "414                1\n",
      "274                1\n"
     ]
    }
   ],
   "source": [
    "#Splitting Dataset\n",
    "X = df[['length','watchers']]\n",
    "y = df[['protection_type']]\n",
    "X_train, X_test, y_train, y_test = train_test_split(X, y, test_size=0.2)\n",
    "print(\"X_train ({0}):\\n{1}\".format(len(X_train), X_train.head()))\n",
    "print(\"\\ny_train ({0}):\\n{1}\".format(len(y_train), y_train.head()))\n",
    "print(\"\\nX_test ({0}):\\n{1}\".format(len(X_test), X_test.head()))\n",
    "print(\"\\ny_test ({0}):\\n{1}\".format(len(y_test), y_test.head()))"
   ]
  },
  {
   "cell_type": "code",
   "execution_count": 23,
   "metadata": {},
   "outputs": [
    {
     "name": "stdout",
     "output_type": "stream",
     "text": [
      "              precision    recall  f1-score   support\n",
      "\n",
      "           1       0.83      0.87      0.85        46\n",
      "           2       0.76      0.70      0.73        27\n",
      "\n",
      "    accuracy                           0.81        73\n",
      "   macro avg       0.80      0.79      0.79        73\n",
      "weighted avg       0.81      0.81      0.81        73\n",
      "\n"
     ]
    }
   ],
   "source": [
    "# TODO: train model\n",
    "#Base Model\n",
    "from sklearn.linear_model import LogisticRegression\n",
    "clf = LogisticRegression().fit(X_train, y_train.values.ravel()) #Train\n",
    "predictions = clf.predict(X_test) #Predict\n",
    "from sklearn.metrics import classification_report\n",
    "print(classification_report(y_test, predictions)) #Evaluate"
   ]
  },
  {
   "cell_type": "markdown",
   "metadata": {},
   "source": [
    "The base model classifies the pages with an accuracy of 0.81 which is pretty good considering the few no of features we chose."
   ]
  },
  {
   "cell_type": "code",
   "execution_count": 24,
   "metadata": {},
   "outputs": [
    {
     "name": "stdout",
     "output_type": "stream",
     "text": [
      "Accuracy of SVC() is 0.821917808219178\n",
      "Confusion Matrix of SVC() is \n",
      " [[41  5]\n",
      " [ 8 19]]\n",
      "Accuracy of DecisionTreeClassifier() is 0.684931506849315\n",
      "Confusion Matrix of DecisionTreeClassifier() is \n",
      " [[31 15]\n",
      " [ 8 19]]\n",
      "Accuracy of RandomForestClassifier() is 0.7123287671232876\n",
      "Confusion Matrix of RandomForestClassifier() is \n",
      " [[34 12]\n",
      " [ 9 18]]\n",
      "Accuracy of KNeighborsClassifier() is 0.7397260273972602\n",
      "Confusion Matrix of KNeighborsClassifier() is \n",
      " [[35 11]\n",
      " [ 8 19]]\n"
     ]
    }
   ],
   "source": [
    "# Choosing the best classification model\n",
    "classifiers=[] #To store different classifiers\n",
    "model1 = svm.SVC()\n",
    "classifiers.append(model1)\n",
    "model2 = tree.DecisionTreeClassifier()\n",
    "classifiers.append(model2)\n",
    "model3 = RandomForestClassifier()\n",
    "classifiers.append(model3)\n",
    "model4 = KNeighborsClassifier()\n",
    "classifiers.append(model4)\n",
    "for clf in classifiers: # Using different classifiers to predict the target variable\n",
    "    clf.fit(X_train, y_train.values.ravel()) #Train\n",
    "    y_pred= clf.predict(X_test) #Predict\n",
    "    acc = accuracy_score(y_test, y_pred) #Evaluate\n",
    "    print(\"Accuracy of %s is %s\"%(clf, acc))\n",
    "    cm = confusion_matrix(y_test, y_pred)\n",
    "    print(\"Confusion Matrix of %s is \\n %s\"%(clf, cm))"
   ]
  },
  {
   "cell_type": "markdown",
   "metadata": {},
   "source": [
    "It’s clearly visible from the output that the Support Vector Machine model outperperformed all the other classification models for this problem and turned out to be the best algorithm for the prediction of the protection type in our case."
   ]
  },
  {
   "cell_type": "markdown",
   "metadata": {},
   "source": [
    "### Future Analyses\n",
    "TODO: Describe any additional analyses you can think of that would be interesting (and why) -- even if you are not sure how to do them."
   ]
  },
  {
   "cell_type": "markdown",
   "metadata": {},
   "source": [
    "* Classify pages based on their contents using NLP/text analysis techniques and predict its advised protection type because the type/topic of the pages also affect how much protection it needs.\n",
    "* To analyse the reasons for protection and find how it influences the interestingness/popularity of pages\n",
    "* Find more relevant features to add to this model for predicting protection type- like no of images, links, edits per month, categories etc \n",
    "* Get a larger dataset to train the model"
   ]
  }
 ],
 "metadata": {
  "kernelspec": {
   "display_name": "Python 3",
   "language": "python",
   "name": "python3"
  },
  "language_info": {
   "codemirror_mode": {
    "name": "ipython",
    "version": 3
   },
   "file_extension": ".py",
   "mimetype": "text/x-python",
   "name": "python",
   "nbconvert_exporter": "python",
   "pygments_lexer": "ipython3",
   "version": "3.6.9"
  }
 },
 "nbformat": 4,
 "nbformat_minor": 2
}
